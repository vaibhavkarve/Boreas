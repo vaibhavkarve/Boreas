{
 "cells": [
  {
   "cell_type": "code",
   "execution_count": 1,
   "metadata": {
    "collapsed": false
   },
   "outputs": [],
   "source": [
    "import sympy as sp\n",
    "import numpy as np"
   ]
  },
  {
   "cell_type": "code",
   "execution_count": 2,
   "metadata": {
    "collapsed": true
   },
   "outputs": [],
   "source": [
    "x, y, z, w = sp.symbols('x, y, z, w') #[x,y] and [z,w] are elements in \\mathbb{R}^2\n",
    "u11, u12, u21, u22 = sp.symbols('u11, u12, u21, u22') # entries of an arbitrary unitary matrix \n",
    "T = sp.symbols('T', real=True) # trace of the arbitrary 2x2 unitary matrix. Always real if the matrix is 2x2."
   ]
  },
  {
   "cell_type": "code",
   "execution_count": 3,
   "metadata": {
    "collapsed": false
   },
   "outputs": [
    {
     "name": "stdout",
     "output_type": "stream",
     "text": [
      "fn =\n",
      "\t\t\n",
      " 4         3           2  2           3         4     \n",
      "x ⋅a[0] + x ⋅y⋅a[1] + x ⋅y ⋅a[2] + x⋅y ⋅a[3] + y ⋅a[4]\n"
     ]
    }
   ],
   "source": [
    "n = 4 # Index for the degree of the irreducible representation of SU(2). n can be any positive integer.\n",
    "\n",
    "## If n is small, do the calculation:\n",
    "if n<5:\n",
    "    \n",
    "    a = sp.IndexedBase('a')\n",
    "    monomials = [x**(n-i)*y**i for i in range(n+1)]\n",
    "\n",
    "    fn = sum([a[i]*monomials[i] for i in range(n+1)]) # Homogenous polynomial in x and y of degree n.\n",
    "    print 'fn =\\n\\t\\t'\n",
    "    sp.pprint(fn)"
   ]
  },
  {
   "cell_type": "markdown",
   "metadata": {},
   "source": [
    "# Action of $U$ on $f_n$:\n",
    "$$x\\longmapsto u_{22}x-u_{12}y\\quad\\text{and}\\quad y\\longmapsto -u_{21}x+u_{11}y$$"
   ]
  },
  {
   "cell_type": "code",
   "execution_count": 4,
   "metadata": {
    "collapsed": false
   },
   "outputs": [
    {
     "name": "stdout",
     "output_type": "stream",
     "text": [
      "Ufn =\n",
      "\n",
      "   4  4           3      4             3        3           3        3        \n",
      "u₁₁ ⋅y ⋅a[4] - u₁₁ ⋅u₁₂⋅y ⋅a[3] - 4⋅u₁₁ ⋅u₂₁⋅x⋅y ⋅a[4] + u₁₁ ⋅u₂₂⋅x⋅y ⋅a[3] + \n",
      "\n",
      "   2    2  4             2            3             2            3            \n",
      "u₁₁ ⋅u₁₂ ⋅y ⋅a[2] + 3⋅u₁₁ ⋅u₁₂⋅u₂₁⋅x⋅y ⋅a[3] - 2⋅u₁₁ ⋅u₁₂⋅u₂₂⋅x⋅y ⋅a[2] + 6⋅u₁\n",
      "\n",
      " 2    2  2  2             2          2  2           2    2  2  2              \n",
      "₁ ⋅u₂₁ ⋅x ⋅y ⋅a[4] - 3⋅u₁₁ ⋅u₂₁⋅u₂₂⋅x ⋅y ⋅a[3] + u₁₁ ⋅u₂₂ ⋅x ⋅y ⋅a[2] - u₁₁⋅u₁\n",
      "\n",
      " 3  4                 2        3                 2        3                   \n",
      "₂ ⋅y ⋅a[1] - 2⋅u₁₁⋅u₁₂ ⋅u₂₁⋅x⋅y ⋅a[2] + 3⋅u₁₁⋅u₁₂ ⋅u₂₂⋅x⋅y ⋅a[1] - 3⋅u₁₁⋅u₁₂⋅u\n",
      "\n",
      "  2  2  2                           2  2                     2  2  2          \n",
      "₂₁ ⋅x ⋅y ⋅a[3] + 4⋅u₁₁⋅u₁₂⋅u₂₁⋅u₂₂⋅x ⋅y ⋅a[2] - 3⋅u₁₁⋅u₁₂⋅u₂₂ ⋅x ⋅y ⋅a[1] - 4⋅\n",
      "\n",
      "       3  3                   2      3                       2  3             \n",
      "u₁₁⋅u₂₁ ⋅x ⋅y⋅a[4] + 3⋅u₁₁⋅u₂₁ ⋅u₂₂⋅x ⋅y⋅a[3] - 2⋅u₁₁⋅u₂₁⋅u₂₂ ⋅x ⋅y⋅a[2] + u₁₁\n",
      "\n",
      "    3  3             4  4           3        3             3        3         \n",
      "⋅u₂₂ ⋅x ⋅y⋅a[1] + u₁₂ ⋅y ⋅a[0] + u₁₂ ⋅u₂₁⋅x⋅y ⋅a[1] - 4⋅u₁₂ ⋅u₂₂⋅x⋅y ⋅a[0] + u\n",
      "\n",
      "  2    2  2  2             2          2  2             2    2  2  2           \n",
      "₁₂ ⋅u₂₁ ⋅x ⋅y ⋅a[2] - 3⋅u₁₂ ⋅u₂₁⋅u₂₂⋅x ⋅y ⋅a[1] + 6⋅u₁₂ ⋅u₂₂ ⋅x ⋅y ⋅a[0] + u₁₂\n",
      "\n",
      "    3  3                   2      3                       2  3                \n",
      "⋅u₂₁ ⋅x ⋅y⋅a[3] - 2⋅u₁₂⋅u₂₁ ⋅u₂₂⋅x ⋅y⋅a[2] + 3⋅u₁₂⋅u₂₁⋅u₂₂ ⋅x ⋅y⋅a[1] - 4⋅u₁₂⋅\n",
      "\n",
      "   3  3             4  4           3      4           2    2  4               \n",
      "u₂₂ ⋅x ⋅y⋅a[0] + u₂₁ ⋅x ⋅a[4] - u₂₁ ⋅u₂₂⋅x ⋅a[3] + u₂₁ ⋅u₂₂ ⋅x ⋅a[2] - u₂₁⋅u₂₂\n",
      "\n",
      "3  4           4  4     \n",
      " ⋅x ⋅a[1] + u₂₂ ⋅x ⋅a[0]\n"
     ]
    }
   ],
   "source": [
    "    Ufn = fn.subs([(x, u22*z-u12*w),(y, -u21*z+u11*w)]).expand() # z,w are temporary variables.\n",
    "    Ufn = Ufn.subs([(z,x),(w,y)])\n",
    "    print 'Ufn =\\n'\n",
    "    sp.pprint(Ufn)\n",
    "    Ufn = sp.Poly(Ufn,x,y) # Ufn is now a polynomial of x and y. a[0:n+1] and u_{ij} get treated as constants."
   ]
  },
  {
   "cell_type": "markdown",
   "metadata": {},
   "source": [
    "# Trace Calculation\n",
    "**Trace of $Uf_n$ is given as the sum of the coefficients of the monimials $x^{n-i}y^{i}a_i,\\;\\forall i\\in\\{0,\\ldots,n\\}$.**\n",
    "\n",
    "We write the trace of $Uf_n$ in terms of the trace of $U$ (denoted by the letter $T$). Hence, set $T=u_{11}+u_{22}$."
   ]
  },
  {
   "cell_type": "code",
   "execution_count": 5,
   "metadata": {
    "collapsed": false
   },
   "outputs": [
    {
     "name": "stdout",
     "output_type": "stream",
     "text": [
      "Trace =\n",
      "\n",
      "   4      3            2              2    2                              3   \n",
      "u₁₁  + u₁₁ ⋅u₂₂ + 3⋅u₁₁ ⋅u₁₂⋅u₂₁ + u₁₁ ⋅u₂₂  + 4⋅u₁₁⋅u₁₂⋅u₂₁⋅u₂₂ + u₁₁⋅u₂₂  + \n",
      "\n",
      "   2    2                2      4\n",
      "u₁₂ ⋅u₂₁  + 3⋅u₁₂⋅u₂₁⋅u₂₂  + u₂₂ \n",
      "\n",
      "\n",
      "Trace =\n",
      "\n",
      "   4        3            2    2        2            3                  4      \n",
      "u₁₁  + 4⋅u₁₁ ⋅u₂₂ + 6⋅u₁₁ ⋅u₂₂  - 3⋅u₁₁  + 4⋅u₁₁⋅u₂₂  - 6⋅u₁₁⋅u₂₂ + u₂₂  - 3⋅u\n",
      "\n",
      "  2    \n",
      "₂₂  + 1\n",
      "\n",
      "\n",
      "Trace =\n",
      "\n",
      " 4      2    \n",
      "T  - 3⋅T  + 1\n"
     ]
    }
   ],
   "source": [
    "coeff = [Ufn.coeff_monomial(x**(n-i)*y**i) for i in range(0,n+1)]\n",
    "coeff = [sp.Poly(coeff[i], a[i]).coeff_monomial(a[i]) for i in range(0,n+1)]\n",
    "Trace = sum(coeff).simplify()\n",
    "print 'Trace =\\n'\n",
    "sp.pprint(Trace)\n",
    "\n",
    "# Use the fact that det(U) = 1.\n",
    "Trace = Trace.subs(u12*u21, u11*u22-1).simplify()\n",
    "print '\\n\\nTrace =\\n'\n",
    "sp.pprint(Trace)\n",
    "\n",
    "Trace = Trace.subs(u22, T-u11).simplify()\n",
    "print '\\n\\nTrace =\\n'\n",
    "sp.pprint(Trace)"
   ]
  },
  {
   "cell_type": "markdown",
   "metadata": {},
   "source": [
    "# General formula for Trace:\n",
    "\n",
    "$$Trace = \\sum_{k=0}^{[n/2]}(-1)^kT^{n-2k}\\binom{n-k}{k}$$\n",
    "\n",
    "where $[\\cdot]$ denotes the Greatest Integer Function."
   ]
  },
  {
   "cell_type": "code",
   "execution_count": 7,
   "metadata": {
    "collapsed": false
   },
   "outputs": [
    {
     "data": {
      "text/plain": [
       "T**10 - 9*T**8 + 28*T**6 - 35*T**4 + 15*T**2 - 1"
      ]
     },
     "execution_count": 7,
     "metadata": {},
     "output_type": "execute_result"
    }
   ],
   "source": [
    "def Trace_Generalised(n):\n",
    "    k = sp.symbols('k', integer = True, nonnegative = True)\n",
    "    Trace_n = sp.Sum((-1)**k*T**(n-2*k)*sp.binomial(n-k,k), (k,0,sp.floor(n/2))).doit()\n",
    "    return Trace_n\n",
    "Trace_Generalised(10)"
   ]
  },
  {
   "cell_type": "markdown",
   "metadata": {
    "collapsed": true
   },
   "source": [
    "# Dirac delta\n",
    "$$\\delta(g) = \\sum_{n=0}^{\\infty}d_nTr(\\rho_n(g))$$\n",
    "\n",
    "We have, $d_n=n$ for each irreducible unitary representation $\\rho_n$.\n",
    "\n",
    "Therefore, \n",
    "\n",
    "$$\\delta(g) = \\sum_{n=0}^{\\infty}d_nTr(\\rho_n(g)) = \\sum_{n=0}^{\\infty}\\sum_{k=0}^{[n/2]}(-1)^kn\\cdot T^{n-2k}\\binom{n-k}{k}$$\n",
    "\n",
    "This double sum can be reindexed to get:\n",
    "$$\\delta(g) = \\sum_{n=0}^{\\infty}\\sum_{m=0}^{\\infty}(-1)^m(n+2m)T^{n}\\binom{n+m}{m}$$\n",
    "\n",
    "I believe this is convergent (by the ratio test) when $|T|<1$."
   ]
  }
 ],
 "metadata": {
  "kernelspec": {
   "display_name": "Python 2",
   "language": "python",
   "name": "python2"
  },
  "language_info": {
   "codemirror_mode": {
    "name": "ipython",
    "version": 2
   },
   "file_extension": ".py",
   "mimetype": "text/x-python",
   "name": "python",
   "nbconvert_exporter": "python",
   "pygments_lexer": "ipython2",
   "version": "2.7.13"
  }
 },
 "nbformat": 4,
 "nbformat_minor": 2
}
